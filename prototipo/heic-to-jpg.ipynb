{
 "cells": [
  {
   "cell_type": "code",
   "execution_count": 35,
   "metadata": {},
   "outputs": [],
   "source": [
    "from PIL import Image\n",
    "import pillow_heif\n",
    "\n",
    "def heic_function(path, file_array, output_path):\n",
    "\n",
    "    for i in range (len(file_array)):\n",
    "        heif_file = pillow_heif.read_heif(path+\"/\"+file_array[i])\n",
    "        image = Image.frombytes(\n",
    "            heif_file.mode,\n",
    "            heif_file.size,\n",
    "            heif_file.data,\n",
    "            \"raw\",\n",
    "\n",
    "        )\n",
    "\n",
    "        image.save (output_path+\"/\"+file_array[i][0:-5]+\".png\", format(\"png\"))"
   ]
  },
  {
   "cell_type": "code",
   "execution_count": 36,
   "metadata": {},
   "outputs": [],
   "source": [
    "from os import walk\n",
    "\n",
    "filenames = next(walk(\"../Sample/\"), (None, None, []))[2]  # [] if no file"
   ]
  },
  {
   "cell_type": "code",
   "execution_count": 38,
   "metadata": {},
   "outputs": [],
   "source": [
    "path = \"../Sample\"\n",
    "output_path = \"../Fotos_convertidas\"\n",
    "\n",
    "heic_function(path, filenames, output_path)"
   ]
  }
 ],
 "metadata": {
  "kernelspec": {
   "display_name": "Python 3.11.0 64-bit",
   "language": "python",
   "name": "python3"
  },
  "language_info": {
   "codemirror_mode": {
    "name": "ipython",
    "version": 3
   },
   "file_extension": ".py",
   "mimetype": "text/x-python",
   "name": "python",
   "nbconvert_exporter": "python",
   "pygments_lexer": "ipython3",
   "version": "3.11.0"
  },
  "orig_nbformat": 4,
  "vscode": {
   "interpreter": {
    "hash": "c261aea317cc0286b3b3261fbba9abdec21eaa57589985bb7a274bf54d6cc0a7"
   }
  }
 },
 "nbformat": 4,
 "nbformat_minor": 2
}
